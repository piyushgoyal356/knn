{
 "cells": [
  {
   "cell_type": "code",
   "execution_count": 47,
   "metadata": {},
   "outputs": [],
   "source": [
    "import numpy as np\n",
    "import pandas as pd\n",
    "import matplotlib.pyplot as plt"
   ]
  },
  {
   "cell_type": "code",
   "execution_count": 48,
   "metadata": {},
   "outputs": [],
   "source": [
    "data = pd.read_csv('mnist_train.csv')\n",
    "# print(data.shape)\n",
    "data = data.values"
   ]
  },
  {
   "cell_type": "code",
   "execution_count": 49,
   "metadata": {},
   "outputs": [],
   "source": [
    "def imageshow(img, label):\n",
    "#     img = data[i][1:]\n",
    "#     label = data[i][0]   \n",
    "    img = img.reshape((28, 28))\n",
    "    plt.imshow(img, cmap='Greys')\n",
    "    plt.show()\n",
    "    print(label)"
   ]
  },
  {
   "cell_type": "code",
   "execution_count": 50,
   "metadata": {},
   "outputs": [],
   "source": [
    "split = round(0.8*data.shape[0])\n",
    "\n",
    "X = data[:,1:]\n",
    "Y = data[:,0].reshape(-1)\n",
    "\n",
    "X_train = X[:split,:]\n",
    "Y_train = Y[:split]\n",
    "X_test = X[split:,:]\n",
    "Y_test = Y[split:]\n",
    "\n",
    "# print(X_test.shape)"
   ]
  },
  {
   "cell_type": "code",
   "execution_count": 51,
   "metadata": {},
   "outputs": [],
   "source": [
    "# imageshow(X_train[11],Y_train[11])\n",
    "def dist(p1,p2):\n",
    "    return np.sqrt(sum((p1-p2)**2))\n",
    "\n",
    "def knn(X,Y,testPoint,k=10):\n",
    "    n = X.shape[0]\n",
    "    m = X.shape[1]\n",
    "    dist_matrix = []\n",
    "    \n",
    "    for i in range(0,n):\n",
    "        d = dist(X[i],testPoint)\n",
    "        dist_matrix.append((d,Y[i]))\n",
    "        \n",
    "    dist_matrix = sorted(dist_matrix)\n",
    "    dist_matrix = np.array(dist_matrix[:k])\n",
    "    vals,counts = np.unique(dist_matrix,return_counts=True)\n",
    "    pred = int(vals[np.argmax(counts)])\n",
    "    \n",
    "    return pred"
   ]
  },
  {
   "cell_type": "code",
   "execution_count": 53,
   "metadata": {},
   "outputs": [],
   "source": [
    "def accuracy(X,Y):\n",
    "    n = X.shape[0]\n",
    "    count = 0\n",
    "    for i in range(0,n):\n",
    "#         a = imageshow(X_test[13],Y_test[13])\n",
    "        pred = knn(X_train,Y_train,X[i])\n",
    "\n",
    "        if Y[i]==pred:\n",
    "            count+=1\n",
    "            print(i+\"->pass\")\n",
    "        else:\n",
    "            print(i+\"->fail\")\n",
    "            \n",
    "    acc = count/n*100\n",
    "    return acc"
   ]
  },
  {
   "cell_type": "code",
   "execution_count": null,
   "metadata": {},
   "outputs": [],
   "source": [
    "acc = accuracy(X_test,Y_test)\n",
    "print(acc)\n",
    "\n",
    "# imageshow(X_test[105],Y_test[105])\n",
    "# knn(X_train,Y_train,X_test[105])"
   ]
  }
 ],
 "metadata": {
  "kernelspec": {
   "display_name": "Python 3",
   "language": "python",
   "name": "python3"
  },
  "language_info": {
   "codemirror_mode": {
    "name": "ipython",
    "version": 3
   },
   "file_extension": ".py",
   "mimetype": "text/x-python",
   "name": "python",
   "nbconvert_exporter": "python",
   "pygments_lexer": "ipython3",
   "version": "3.8.3"
  }
 },
 "nbformat": 4,
 "nbformat_minor": 4
}
